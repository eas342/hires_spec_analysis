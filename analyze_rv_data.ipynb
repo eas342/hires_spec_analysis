{
 "cells": [
  {
   "cell_type": "code",
   "execution_count": null,
   "metadata": {},
   "outputs": [],
   "source": [
    "from astropy.io import ascii, fits\n",
    "from astropy.table import Table, vstack\n",
    "import numpy as np\n",
    "import matplotlib.pyplot as plt\n",
    "import es_gen\n",
    "import pdb\n",
    "import glob\n",
    "from scipy.interpolate import interp1d\n",
    "from astropy.convolution import Gaussian1DKernel, convolve\n",
    "import os\n",
    "import es_gen\n",
    "import sp_engine\n",
    "from sp_engine import measuredArray\n",
    "from specutils.io import read_fits\n",
    "\n",
    "%matplotlib inline"
   ]
  },
  {
   "cell_type": "markdown",
   "metadata": {},
   "source": [
    "Inspecting the data from Masuda"
   ]
  },
  {
   "cell_type": "code",
   "execution_count": null,
   "metadata": {},
   "outputs": [],
   "source": [
    "dat = Table(fits.getdata('kic1255_fits/w111346.fits'))\n",
    "dat.sort('Wavelength')\n",
    "rvSystematic = -36.26 ## Croll et al. 2014 systematic RV + my offset to match Mg I lines\n",
    "rvBary = -2.9142 ## barycentric correction\n",
    "dat['Wavelength'] = dat['Wavelength'] / (1. + (rvSystematic - rvBary)/3e5)"
   ]
  },
  {
   "cell_type": "code",
   "execution_count": null,
   "metadata": {},
   "outputs": [],
   "source": [
    "dat2 = Table(fits.getdata('kic1255_fits/111346.fits'))\n",
    "dat2.sort('Wavelength')\n",
    "dat2['Wavelength'] = dat2['Wavelength'] / (1. + (rvSystematic - rvBary)/3e5) ## needed to match Mg lines"
   ]
  },
  {
   "cell_type": "markdown",
   "metadata": {},
   "source": [
    "## Plotting the Masuda et al. Reduction"
   ]
  },
  {
   "cell_type": "code",
   "execution_count": null,
   "metadata": {},
   "outputs": [],
   "source": [
    "fig, ax = plt.subplots()\n",
    "waveOffset = 0.5\n",
    "ax.plot(dat['Wavelength'],dat['Flux']/300.+ 1.5,label='w111346.txt')\n",
    "ax.plot(dat2['Wavelength'],dat2['Flux'],label='111346.txt')\n",
    "ax.legend()\n",
    "ax.set_xlabel('Wavelength ($\\AA$)')\n",
    "ax.set_ylabel('Normalized Flux + Offset')\n",
    "ax.set_xlim(5163,5190)\n",
    "\n",
    "ax.set_ylim(-2,5)\n",
    "\n",
    "ax.axvline(5167.3216)\n",
    "ax.axvline(5172.6843)\n",
    "ax.axvline(5183.6042)\n",
    "fig.savefig('mgTriplet.pdf')\n"
   ]
  },
  {
   "cell_type": "markdown",
   "metadata": {},
   "source": [
    "We want the files like w111346.txt (dat) and not 11346 (dat2) since the normalization process for RV wipes out the Mg lines."
   ]
  },
  {
   "cell_type": "code",
   "execution_count": null,
   "metadata": {},
   "outputs": [],
   "source": [
    "fig, ax = plt.subplots()\n",
    "ax.plot(dat['Wavelength'],dat['RawFlux'])\n",
    "ax.plot(dat['Wavelength'],dat['Flux'])\n",
    "ax.legend()\n",
    "ax.set_xlim(5163,5190)\n",
    "ax.set_ylim(0,1000)"
   ]
  },
  {
   "cell_type": "markdown",
   "metadata": {},
   "source": [
    "## Look at some BOSZ models"
   ]
  },
  {
   "cell_type": "code",
   "execution_count": null,
   "metadata": {},
   "outputs": [],
   "source": [
    "HDUList = fits.open('../bosz/amp00cp00op00t4500g40v20modrt0b100000rs.fits')\n",
    "model = Table(HDUList[1].data)\n",
    "model['Wavelength'] = model['Wavelength'] * (1. - 81.2/3e5) ## why do we need this RV offset??\n",
    "HDUList.close()"
   ]
  },
  {
   "cell_type": "code",
   "execution_count": null,
   "metadata": {},
   "outputs": [],
   "source": [
    "#model.colnames\n",
    "#HDUList.info()\n",
    "#HDUList[1].header\n",
    "#head = HDUList[0].header\n",
    "#head['LOGG']"
   ]
  },
  {
   "cell_type": "markdown",
   "metadata": {},
   "source": [
    "Look at the Mg lines"
   ]
  },
  {
   "cell_type": "code",
   "execution_count": null,
   "metadata": {},
   "outputs": [],
   "source": [
    "fig, ax = plt.subplots()\n",
    "pts = (model['Wavelength'] > 5176) & (model['Wavelength'] < 5180)\n",
    "norm = np.nanmedian(model['SpecificIntensity'][pts])\n",
    "ax.plot(model['Wavelength'],model['SpecificIntensity']/norm)\n",
    "ax.set_xlim(5163,5190)\n",
    "#ax.set_xlim(5172,5174)\n",
    "ax.axvline(5167.3216,color='red')\n",
    "ax.axvline(5172.6843,color='red')\n",
    "ax.axvline(5183.6042,color='red')"
   ]
  },
  {
   "cell_type": "markdown",
   "metadata": {},
   "source": [
    "Look at the Na I D lines"
   ]
  },
  {
   "cell_type": "code",
   "execution_count": null,
   "metadata": {},
   "outputs": [],
   "source": [
    "plt.plot(model['Wavelength'],model['SpecificIntensity']/norm)\n",
    "plt.xlim(5880,5910)\n",
    "plt.axvline(5889.95095,color='red')\n",
    "plt.axvline(5895.92424,color='red')"
   ]
  },
  {
   "cell_type": "code",
   "execution_count": null,
   "metadata": {},
   "outputs": [],
   "source": [
    "HDUList = fits.open('../bosz/amp00cp00op00t4500g40v20modrt0b100000rs.fits')\n",
    "model = Table(HDUList[1].data)\n",
    "model.colnames\n",
    "norm = np.nanmedian(model['SpecificIntensity'][pts])\n",
    "model['Wavelength'] = model['Wavelength'] * (1. - 0./3e5) ## why no RV offset for the IR?\n",
    "HDUList.close()\n",
    "\n",
    "plt.plot(model['Wavelength'],model['SpecificIntensity']/norm)\n",
    "plt.xlim(22000,22200)\n",
    "plt.ylim(0,0.25)\n",
    "plt.axvline(22062.42,color='red')\n",
    "plt.axvline(22089.69,color='red')\n"
   ]
  },
  {
   "cell_type": "markdown",
   "metadata": {},
   "source": [
    "Read in all the relevant BOSZ models"
   ]
  },
  {
   "cell_type": "code",
   "execution_count": null,
   "metadata": {},
   "outputs": [],
   "source": [
    "m1 = sp_engine.stellModel('../bosz/amp00cp00op00t4500g40v20modrt0b100000rs.fits')\n",
    "m2 = sp_engine.stellModel('../bosz/amp00cp00op00t4500g45v20modrt0b100000rs.fits')\n",
    "m3 = sp_engine.stellModel('../bosz/amp00cp00op00t5000g40v20modrt0b100000rs.fits')\n",
    "m4 = sp_engine.stellModel('../bosz/amp00cp00op00t4500g50v20modrt0b100000rs.fits')\n",
    "m5 = sp_engine.stellModel('../bosz/amp00cp00op00t4500g30v20modrt0b100000rs.fits')\n",
    "m6 = sp_engine.stellModel('../bosz/amp00cp00op00t4000g45v20modrt0b100000rs.fits')\n",
    "m7 = sp_engine.stellModel('../bosz/amp00cp00op00t5000g45v20modrt0b100000rs.fits')\n",
    "m8 = sp_engine.stellModel('../bosz/amp05cp00op00t4500g45v20modrt0b100000rs.fits')\n",
    "m9 = sp_engine.stellModel('../bosz/amm05cp00op00t4500g45v20modrt0b100000rs.fits')\n",
    "m10 = sp_engine.stellModel('../bosz/amp00cm05op00t4500g45v20modrt0b100000rs.fits')\n",
    "m11 = sp_engine.stellModel('../bosz/amp00cp05op00t4500g45v20modrt0b100000rs.fits')\n",
    "m12 = sp_engine.stellModel('../bosz/amp00cp00om03t4500g45v20modrt0b100000rs.fits')\n",
    "m13 = sp_engine.stellModel('../bosz/amp00cp00op03t4500g45v20modrt0b100000rs.fits')\n",
    "#m14 = sp_engine.stellModel('../bosz/amp00cp00om03t4500g40v20modrt0b100000rs.fits')"
   ]
  },
  {
   "cell_type": "code",
   "execution_count": null,
   "metadata": {},
   "outputs": [],
   "source": [
    "fig, ax = plt.subplots()\n",
    "showRange1 = [5160,5195]\n",
    "normRange1 = [5188,5190]\n",
    "m4.plot(ax=ax,showRange=showRange1,normRange=normRange1)\n",
    "m5.plot(ax=ax,offset=0.,showRange=showRange1,normRange=normRange1)\n",
    "#m3.plot(ax=ax,offset=0.)\n",
    "ax.set_xlim(showRange1)\n",
    "ax.legend()\n",
    "ax.axvline(5167.3216)\n",
    "ax.axvline(5172.6843)\n",
    "ax.axvline(5183.6042)"
   ]
  },
  {
   "cell_type": "markdown",
   "metadata": {},
   "source": [
    "## Compare data to models"
   ]
  },
  {
   "cell_type": "code",
   "execution_count": null,
   "metadata": {},
   "outputs": [],
   "source": [
    "## Normalize\n",
    "\n",
    "closepts = (dat['Wavelength'] > 5160.) & (dat['Wavelength'] < 5195.)\n",
    "normValue1 = np.median(dat['Flux'][closepts])\n",
    "pts = closepts & (dat['Flux'] > normValue1 * 1.1)\n",
    "poly = es_gen.robust_poly(dat['Wavelength'][pts],dat['Flux'][pts],4)\n",
    "linModel = np.polyval(poly,dat['Wavelength'])\n",
    "detrFlux = dat['Flux'] / linModel"
   ]
  },
  {
   "cell_type": "code",
   "execution_count": null,
   "metadata": {},
   "outputs": [],
   "source": [
    "plt.plot(dat['Wavelength'],detrFlux)\n",
    "#plt.plot(dat['Wavelength'][pts],detrFlux[pts])\n",
    "plt.xlim(5160,5195)\n",
    "plt.ylim(0,2)\n",
    "plt.axvline(5167.3216,color='red')\n",
    "plt.axvline(5172.6843,color='red')\n",
    "plt.axvline(5183.6042,color='red')"
   ]
  },
  {
   "cell_type": "code",
   "execution_count": null,
   "metadata": {},
   "outputs": [],
   "source": [
    "# fig, ax = plt.subplots()\n",
    "# m1.plot(ax=ax)\n",
    "# m2.plot(ax=ax,offset=0.)\n",
    "# ax.plot(dat['Wavelength'] + 2.,detrFlux,label='w111346.fits')\n",
    "# ax.set_xlim(5163,5190)\n",
    "# ax.set_ylim(-0.1,2)\n",
    "# ax.set_xlabel('Wavelength ($\\AA$)')\n",
    "# ax.set_ylabel('Normalized Flux')\n",
    "# ax.legend()"
   ]
  },
  {
   "cell_type": "markdown",
   "metadata": {},
   "source": [
    "## Convolve the models from R=100,000 to data at R=60,000\n",
    "Gaussian $\\sigma = \\frac{1}{\\sqrt{(1./6e4)^2 - (1./1e5)^2}}$ = 75,000"
   ]
  },
  {
   "cell_type": "code",
   "execution_count": null,
   "metadata": {},
   "outputs": [],
   "source": [
    "refWavel = 5163.0 ## angstroms\n",
    "m1.smooth(refWavel,6e4)\n",
    "m2.smooth(refWavel,6e4)\n",
    "m3.smooth(refWavel,6e4)\n",
    "m1.RConv"
   ]
  },
  {
   "cell_type": "markdown",
   "metadata": {},
   "source": [
    "Look closely to check convolution"
   ]
  },
  {
   "cell_type": "code",
   "execution_count": null,
   "metadata": {},
   "outputs": [],
   "source": [
    "fig, ax = plt.subplots()\n",
    "\n",
    "m1.plot(ax=ax,doSmooth=True)\n",
    "m3.plot(ax=ax,offset=0.,doSmooth=True)\n",
    "ax.plot(dat['Wavelength'],detrFlux,label='w111346.fits')\n",
    "ax.set_xlim(5170,5173)\n",
    "ax.set_ylim(-0.1,2)\n",
    "ax.set_xlabel('Wavelength ($\\AA$)')\n",
    "ax.set_ylabel('Normalized Flux')\n",
    "ax.legend()"
   ]
  },
  {
   "cell_type": "markdown",
   "metadata": {},
   "source": [
    "Tweak the convolution"
   ]
  },
  {
   "cell_type": "code",
   "execution_count": null,
   "metadata": {},
   "outputs": [],
   "source": [
    "#m1.smooth(refWavel,5.5e4)\n",
    "m1.smooth(refWavel,8.5e4)\n",
    "m2.smooth(refWavel,8.5e4)\n",
    "m3.smooth(refWavel,8.5e4)\n",
    "fig, ax = plt.subplots()\n",
    "m1.plot(ax=ax,doSmooth=True)\n",
    "m2.plot(ax=ax,offset=0.,doSmooth=True)\n",
    "ax.plot(dat['Wavelength'],detrFlux,label='w111346.fits')\n",
    "ax.set_xlim(5170,5174)\n",
    "ax.set_ylim(-0.1,2)\n",
    "ax.set_xlabel('Wavelength ($\\AA$)')\n",
    "ax.set_ylabel('Normalized Flux')\n",
    "ax.legend()"
   ]
  },
  {
   "cell_type": "markdown",
   "metadata": {},
   "source": [
    "For some reason, it matches better if we convolved with a smaller kernel width"
   ]
  },
  {
   "cell_type": "code",
   "execution_count": null,
   "metadata": {},
   "outputs": [],
   "source": [
    "5172./m1.RConv, m1.RConv"
   ]
  },
  {
   "cell_type": "code",
   "execution_count": null,
   "metadata": {},
   "outputs": [],
   "source": [
    "fig, ax = plt.subplots()\n",
    "\n",
    "#m1.plot(ax=ax,offset=0.7,doSmooth=True)\n",
    "m2.plot(ax=ax,offset=0.7,doSmooth=True)\n",
    "m3.plot(ax=ax,offset=-0.7,doSmooth=True)\n",
    "\n",
    "ax.plot(dat['Wavelength'],detrFlux,label='w111346.fits')\n",
    "ax.set_xlim(5163,5190)\n",
    "ax.set_ylim(-1,3)\n",
    "ax.set_xlabel('Wavelength ($\\AA$)')\n",
    "ax.set_ylabel('Normalized Flux')\n",
    "ax.legend()\n",
    "fig.savefig('bosz_mg_triplet.pdf')"
   ]
  },
  {
   "cell_type": "markdown",
   "metadata": {},
   "source": [
    "## Compare two different images"
   ]
  },
  {
   "cell_type": "code",
   "execution_count": null,
   "metadata": {},
   "outputs": [],
   "source": [
    "s1 = sp_engine.subaruSpec('kic1255_fits/w111346.fits',rvCorrection=rvSystematic - -2.9142)\n",
    "s2 = sp_engine.subaruSpec('kic1255_fits/w111350.fits',rvCorrection=rvSystematic - -2.936)\n",
    "#s2 = sp_engine.subaruSpec('kic1255_fits/w111526.fits')"
   ]
  },
  {
   "cell_type": "markdown",
   "metadata": {},
   "source": [
    "## Check that the sp_engine.subaruSpec class works"
   ]
  },
  {
   "cell_type": "code",
   "execution_count": null,
   "metadata": {},
   "outputs": [],
   "source": [
    "fig, ax = plt.subplots()\n",
    "ax.plot(dat['Wavelength'],detrFlux,label='w111346.fits, detrend')\n",
    "ax.plot(dat['Wavelength'],dat['Flux']/300.,label='w111346.fits')\n",
    "ax.plot(s1.wave,s1.normFlux * 0.8,label='s1 object')\n",
    "#s1.plot(ax=ax)\n",
    "ax.legend()\n",
    "ax.set_xlim(5170,5174)\n",
    "#ax.set_xlim(5160,5190)\n",
    "ax.set_ylim(0,2)\n",
    "\n",
    "# ax.axvline(5167.3216)\n",
    "# ax.axvline(5172.6843)\n",
    "# ax.axvline(5183.6042)"
   ]
  },
  {
   "cell_type": "code",
   "execution_count": null,
   "metadata": {},
   "outputs": [],
   "source": [
    "len(s2.dat['Wavelength']), len(s2.normFlux), len(s1.dat['Wavelength'])"
   ]
  },
  {
   "cell_type": "code",
   "execution_count": null,
   "metadata": {},
   "outputs": [],
   "source": [
    "fig, ax = plt.subplots()\n",
    "s1.plot(ax=ax)\n",
    "s2.plot(ax=ax)\n",
    "ax.legend()\n",
    "ax.set_xlabel('Wavelength ($\\AA$)')\n",
    "ax.set_ylabel('Normalized Flux + Offset')\n",
    "#ax.set_xlim(5163,5190)\n",
    "#ax.set_xlim(5163,5170)\n",
    "ax.set_xlim(5166.5,5167)\n",
    "ax.set_ylim(0,2)"
   ]
  },
  {
   "cell_type": "markdown",
   "metadata": {},
   "source": [
    "Differences between spectra are much smaller than the differences with the BOSZ models"
   ]
  },
  {
   "cell_type": "markdown",
   "metadata": {},
   "source": [
    "## Average all Masuda Spectra"
   ]
  },
  {
   "cell_type": "code",
   "execution_count": null,
   "metadata": {},
   "outputs": [],
   "source": [
    "np.min(s2.dat['Wavelength']), np.max(s2.dat['Wavelength'])"
   ]
  },
  {
   "cell_type": "code",
   "execution_count": null,
   "metadata": {},
   "outputs": [],
   "source": [
    "baryCorr = ascii.read('output/barycent_corrections.csv')"
   ]
  },
  {
   "cell_type": "code",
   "execution_count": null,
   "metadata": {},
   "outputs": [],
   "source": [
    "fList = glob.glob('kic1255_fits/w*.fits')\n",
    "blueCCDList, allSubaru = [], []\n",
    "for oneFile in fList:\n",
    "    s = sp_engine.subaruSpec(oneFile)\n",
    "    if s.ccdSide == 'blue':\n",
    "        blueCCDList.append(oneFile)\n",
    "\n",
    "nFile = len(blueCCDList)\n",
    "for ind,oneFile in enumerate(blueCCDList):\n",
    "    baryInd = baryCorr['File Name'] == os.path.basename(oneFile)\n",
    "    if np.sum(baryInd) != 1:\n",
    "        print(\"Couldn't find RV correctly for file {}\".format(oneFile))\n",
    "    RV = baryCorr['RV (km/s)'][baryInd]\n",
    "    s = sp_engine.subaruSpec(oneFile,rvCorrection=rvSystematic - RV)\n",
    "    \n",
    "    if ind == 0:\n",
    "        ## Choose the wavelength grid the first time through\n",
    "        pts = (s.wave > 5120.) & (s.wave < 6440.)\n",
    "        waveGrid = s.wave[pts]\n",
    "        allFlux = np.zeros([len(waveGrid),nFile])\n",
    "    f = interp1d(s.wave,s.normFlux)\n",
    "    allFlux[:,ind] = f(waveGrid)\n",
    "    allSubaru.append(s)"
   ]
  },
  {
   "cell_type": "markdown",
   "metadata": {},
   "source": [
    "Also apply the RVs to s1 and s2"
   ]
  },
  {
   "cell_type": "code",
   "execution_count": null,
   "metadata": {},
   "outputs": [],
   "source": [
    "fig, ax = plt.subplots(figsize=(15,7))\n",
    "for ind,oneS in enumerate(allSubaru):\n",
    "    #ax.plot(oneS.wave,oneS.normFlux + 0.3 * ind)\n",
    "    ax.plot(waveGrid,allFlux[:,ind] + 0.3 * ind)\n",
    "ax.set_xlim(5170,5174)\n",
    "#ax.set_xlim(5173,5176)\n",
    "#ax.set_xlim(5160,5190)\n",
    "ax.set_ylim(0,4.)\n",
    "#ax.set_ylim(0,5.)\n"
   ]
  },
  {
   "cell_type": "code",
   "execution_count": null,
   "metadata": {},
   "outputs": [],
   "source": [
    "#pts = (waveGrid > 5160.) & (waveGrid < 5190.)\n",
    "pts = (waveGrid > 5170.) & (waveGrid < 5174.)\n",
    "fig, ax =plt.subplots(figsize=(14,5))\n",
    "plt.imshow(allFlux[pts,:].T,aspect='auto')"
   ]
  },
  {
   "cell_type": "code",
   "execution_count": null,
   "metadata": {},
   "outputs": [],
   "source": [
    "medSpec = np.median(allFlux,axis=1)\n",
    "medSpecObj = measuredArray(waveGrid,medSpec,Res=6e4)\n",
    "medSpecObj.removePoly()\n",
    "## Get Errors from the standard deviation\n",
    "stdSpec = np.nanstd(allFlux,axis=1)\n",
    "medSNR = np.median(medSpec/stdSpec)\n",
    "medSNR"
   ]
  },
  {
   "cell_type": "code",
   "execution_count": null,
   "metadata": {},
   "outputs": [],
   "source": [
    "stdeMean = stdSpec/ np.sqrt(nFile)\n",
    "## mask points that have extraordinarily high errors\n",
    "badp = stdeMean > 0.9\n",
    "stdeMean[badp] = np.nan"
   ]
  },
  {
   "cell_type": "markdown",
   "metadata": {},
   "source": [
    "Compare median spectra with an example one"
   ]
  },
  {
   "cell_type": "code",
   "execution_count": null,
   "metadata": {},
   "outputs": [],
   "source": [
    "fig, ax = plt.subplots(figsize=(15,6))\n",
    "thisRange = (5170,5174)\n",
    "pts = (waveGrid > thisRange[0]) & (waveGrid < thisRange[1])\n",
    "ax.plot(waveGrid[pts],medSpec[pts],label='median')\n",
    "ax.errorbar(waveGrid[pts],np.ones_like(waveGrid[pts]) *0.1,fmt='.',yerr=stdSpec[pts],\n",
    "           label='Error on Single Spec')\n",
    "s1.plot(ax=ax)\n",
    "s2.plot(ax=ax)\n",
    "ax.legend()\n",
    "ax.set_xlim(thisRange)\n",
    "ax.set_ylim(0,1.5)"
   ]
  },
  {
   "cell_type": "code",
   "execution_count": null,
   "metadata": {},
   "outputs": [],
   "source": [
    "fig, ax = plt.subplots()\n",
    "ax.plot(waveGrid[pts],medSpec[pts],label='median')\n",
    "s1.plot(ax=ax)\n",
    "s2.plot(ax=ax)\n",
    "ax.legend()\n",
    "ax.set_xlim(5171.7,5172.3)\n",
    "ax.set_ylim(0,1.5)"
   ]
  },
  {
   "cell_type": "markdown",
   "metadata": {},
   "source": [
    "## Compare 2015 Data to 2013 Data"
   ]
  },
  {
   "cell_type": "code",
   "execution_count": null,
   "metadata": {},
   "outputs": [],
   "source": [
    "specES = read_fits.read_fits_spectrum1d('../fits_data/sp_ecw_HDSA00094086_improved_wavecal.fits')\n",
    "oneES= specES[22]\n",
    "waveES13, fluxES13 = oneES.wavelength.value,oneES.flux.value\n",
    "waveES13 = waveES13 / (1. + (rvSystematic - 6.5924)/3.0e5)\n",
    "badp = (fluxES13 > 2. * np.median(fluxES13))\n",
    "fluxES13[badp] = np.nan\n",
    "spec13Obj = measuredArray(waveES13,fluxES13)\n",
    "spec13Obj.removePoly()"
   ]
  },
  {
   "cell_type": "code",
   "execution_count": null,
   "metadata": {},
   "outputs": [],
   "source": [
    "fig, ax = plt.subplots(figsize=(15,4))\n",
    "normRange1 = [5176,5179]\n",
    "medSpecObj.plot(ax=ax,customName='2015 spec',normRange=normRange1,removePoly=False)\n",
    "#spec13Obj.plot(ax=ax,customName='2013 spec',normRange=normRange1,removePoly=True)\n",
    "ax.plot(waveES13,(fluxES13/np.nanmedian(fluxES13) - 1.)*1.2+1.,label='2013 spec')\n",
    "ax.legend()\n",
    "ax.set_xlabel('Wavelength ($\\AA$)')\n",
    "ax.set_ylabel('Normalized Flux')\n",
    "ax.set_ylim(0,2)\n",
    "ax.set_xlim(5160,5190)\n",
    "fig.savefig('plots/2013_vs_2015_spec.pdf',bbox_inches='tight')"
   ]
  },
  {
   "cell_type": "markdown",
   "metadata": {},
   "source": [
    "# Adding some offsets to check for differences"
   ]
  },
  {
   "cell_type": "code",
   "execution_count": null,
   "metadata": {},
   "outputs": [],
   "source": [
    "fig, ax = plt.subplots(figsize=(15,4))\n",
    "normRange1 = [5176,5179]\n",
    "medSpecObj.plot(ax=ax,customName='2015 spec',normRange=normRange1,removePoly=False)\n",
    "#spec13Obj.plot(ax=ax,customName='2013 spec',normRange=normRange1,removePoly=True)\n",
    "ax.plot(waveES13,(fluxES13/np.nanmedian(fluxES13) - 1.)*1.2+0.6,label='2013 spec')\n",
    "ax.legend()\n",
    "ax.set_xlabel('Wavelength ($\\AA$)')\n",
    "ax.set_ylabel('Normalized Flux')\n",
    "ax.set_ylim(0,2)\n",
    "ax.set_xlim(5160,5190)"
   ]
  },
  {
   "cell_type": "markdown",
   "metadata": {},
   "source": [
    "## Compare Median Spectrum with BOSZ Model"
   ]
  },
  {
   "cell_type": "code",
   "execution_count": null,
   "metadata": {},
   "outputs": [],
   "source": [
    "medSpecObj.smooth(5715,outRes=4.0e4)\n",
    "for oneMod in [m1,m2,m3,m4,m5,m6,m7,m8,m9,m10,m11,m12,m13]:\n",
    "    oneMod.removePoly()\n",
    "    #oneMod.smooth(5715,outRes=6.0e4)\n",
    "    oneMod.smooth(5715,outRes=8.5e4)\n"
   ]
  },
  {
   "cell_type": "code",
   "execution_count": null,
   "metadata": {},
   "outputs": [],
   "source": [
    "fig, ax = plt.subplots(figsize=(10,4))\n",
    "showRange = (5163,5190)\n",
    "normRange1 = [5176,5179]\n",
    "#m1.plot(ax=ax,offset=0.7,doSmooth=True,removePoly=False)\n",
    "m2.plot(ax=ax,offset=0.7,doSmooth=True,removePoly=False,normRange=normRange1)\n",
    "m3.plot(ax=ax,offset=-0.7,doSmooth=True,removePoly=False,normRange=normRange1)\n",
    "#ax.plot(dat['Wavelength'] + 2.,detrFlux,label='w111346.fits')\n",
    "#ax.plot(waveGrid+2.,medSpec+0.,label='median_spec')\n",
    "medSpecObj.plot(ax=ax,customName='median spec',removePoly=False,doSmooth=False,\n",
    "                normRange=normRange1)\n",
    "ax.set_xlim(showRange)\n",
    "ax.set_ylim(-1,4.)\n",
    "ax.set_xlabel('Wavelength ($\\AA$)')\n",
    "ax.set_ylabel('Normalized Flux')\n",
    "\n",
    "nGrid = len(waveGrid)\n",
    "#skipPoints = np.mod(np.arange(nGrid),30) == 0 ## skip points to better see the errors\n",
    "pts = (waveGrid > showRange[0]) & (waveGrid < showRange[1]) #& skipPoints\n",
    "\n",
    "ax.errorbar(waveGrid[pts],np.zeros_like(waveGrid[pts]) - 0.8,fmt='.',yerr=stdeMean[pts],\n",
    "           label='Standard err')\n",
    "ax.legend()\n",
    "\n",
    "fig.savefig('bosz_mg_triplet_median_spec_w_5000.pdf')"
   ]
  },
  {
   "cell_type": "markdown",
   "metadata": {},
   "source": [
    "Calculate the line width from microturbulent velocity in BOSZ models"
   ]
  },
  {
   "cell_type": "code",
   "execution_count": null,
   "metadata": {},
   "outputs": [],
   "source": [
    "lambdaRef = 5312.85#5312.28\n",
    "v_over_c = 2.0 / 3e5\n",
    "lambdaDiff = v_over_c * lambdaRef\n",
    "normRangeLineCheck = [5312.5,5313.4]\n",
    "fig, ax = plt.subplots()\n",
    "m2.plot(ax=ax,offset=0.7,doSmooth=True,normRange=normRangeLineCheck,showRange=normRangeLineCheck)\n",
    "\n",
    "medSpecObj.plot(ax=ax,customName='median spec',doSmooth=False,normRange=normRangeLineCheck,\n",
    "                showRange=normRangeLineCheck)\n",
    "\n",
    "\n",
    "ax.axvline(lambdaRef,color='purple',linewidth=0.5)\n",
    "ax.axvline(lambdaRef + lambdaDiff,color='purple',linewidth=0.5)\n",
    "\n",
    "ax.axvline(lambdaRef + 7./3.0e5 * lambdaRef,color='red')\n"
   ]
  },
  {
   "cell_type": "markdown",
   "metadata": {},
   "source": [
    "The line width appears a lot broader than 2km/s. The red line is 7 km/s away."
   ]
  },
  {
   "cell_type": "code",
   "execution_count": null,
   "metadata": {},
   "outputs": [],
   "source": [
    "fig, ax = plt.subplots()\n",
    "\n",
    "normRange1 = [5306,5328]\n",
    "showRange2 = normRange1\n",
    "#m1.plot(ax=ax,offset=0.7,doSmooth=True,removePoly=False)\n",
    "m2.plot(ax=ax,offset=0.7,doSmooth=False,removePoly=False,normRange=normRange1,\n",
    "       showRange=showRange2)\n",
    "m3.plot(ax=ax,offset=-0.7,doSmooth=False,removePoly=False,normRange=normRange1,\n",
    "       showRange=showRange2)\n",
    "\n",
    "#ax.plot(waveGrid+2.,medSpec+0.,label='median_spec')\n",
    "medSpecObj.plot(ax=ax,customName='median spec',removePoly=False,doSmooth=False,\n",
    "                normRange=normRange1,showRange=showRange2)\n",
    "ax.set_xlim(normRange1[0],normRange1[1])\n",
    "ax.set_ylim(-1,3)\n",
    "ax.set_xlabel('Wavelength ($\\AA$)')\n",
    "ax.set_ylabel('Normalized Flux')\n",
    "\n",
    "pts = (waveGrid > 5305) & (waveGrid < 5330)\n",
    "\n",
    "ax.errorbar(waveGrid[pts],np.zeros_like(waveGrid[pts]) - 0.8,fmt='.',yerr=stdeMean[pts],\n",
    "           label='Standard err')\n",
    "ax.legend()\n",
    "fig.savefig('plots/continuum_region.pdf')"
   ]
  },
  {
   "cell_type": "code",
   "execution_count": null,
   "metadata": {},
   "outputs": [],
   "source": [
    "plt.plot(waveGrid,medSpec/stdeMean,'.')\n",
    "plt.ylim(0,100)\n",
    "plt.xlim(5163,5190)"
   ]
  },
  {
   "cell_type": "markdown",
   "metadata": {},
   "source": [
    "## Zoom in on Blue Side"
   ]
  },
  {
   "cell_type": "code",
   "execution_count": null,
   "metadata": {},
   "outputs": [],
   "source": [
    "normRange1 = [5166,5170]\n",
    "fig, ax = plt.subplots()\n",
    "for oneMod in [m1,m3]:\n",
    "    oneMod.plot(ax=ax,offset=0,doSmooth=True,removePoly=False,normRange=normRange1)\n",
    "\n",
    "medSpecObj.plot(ax=ax,customName='median spec',removePoly=False,normRange=normRange1,doSmooth=True)\n",
    "ax.set_xlim(5166,5170)\n",
    "ax.set_ylim(-0.2,5)\n",
    "ax.set_xlabel('Wavelength ($\\AA$)')\n",
    "ax.set_ylabel('Normalized Flux')\n",
    "ax.legend()\n"
   ]
  },
  {
   "cell_type": "code",
   "execution_count": null,
   "metadata": {},
   "outputs": [],
   "source": [
    "medSpecObj = measuredArray(waveGrid,medSpec,Res=6e4)\n",
    "medSpecObj.removePoly()\n",
    "medSpecObj.smooth(5715,outRes=4.0e4)\n"
   ]
  },
  {
   "cell_type": "code",
   "execution_count": null,
   "metadata": {},
   "outputs": [],
   "source": [
    "paramList = ['T_EFF','LOGG','MH','CM','ALPHA']\n",
    "paramDict = {'T_EFF':'T','LOGG':'logg','MH':'[M/H]','CM':'[C/M]','ALPHA':r'[$\\alpha$/M]'}\n",
    "\n",
    "styleList=['-','--',':']\n",
    "\n",
    "def paramLabel(parameter,model):\n",
    "    \"\"\" Returns a string of the name = value\"\"\"\n",
    "    if parameter == 'FINAL':\n",
    "        return 'Best Fit'\n",
    "    else:\n",
    "        return paramDict[parameter]+'='+str(model.header[parameter])\n",
    "\n",
    "def doExploration(modelList,parameter='T_EFF',xlimExplore=(5163,5190)):\n",
    "    \"\"\" Does an exploration of a parameter \n",
    "    Parameters\n",
    "    ----------------\n",
    "    modelList: list of model objects\n",
    "        List of models to show exploration over\n",
    "    parameter: str\n",
    "        FITS keyword of parameter to show in legend\n",
    "    xlimExplore: tuple\n",
    "        X limits fo plot\n",
    "    \"\"\"\n",
    "    polyRange = [5163,5190]\n",
    "    normRange1 = [5176,5179]\n",
    "    fig, ax = plt.subplots()\n",
    "    medSpecObj.removePoly(waveRange=polyRange,nPoly=3,sigreject=10)\n",
    "    medSpecX, medSpecY = medSpecObj.getSpec(removePoly=True,normRange=normRange1,\n",
    "                                            doSmooth=False)\n",
    "\n",
    "    \n",
    "    for ind, oneMod in enumerate(modelList):\n",
    "        oneMod.removePoly(waveRange=polyRange,nPoly=3,sigreject=10)\n",
    "        \n",
    "        chiSquare, chiString = medSpecObj.chiSquared(oneMod,normRange=normRange1,SNR=medSNR)\n",
    "        \n",
    "        oneMod.plot(ax=ax,offset=ind *0.00,doSmooth=True,removePoly=True,normRange=normRange1,\n",
    "                   customName=paramLabel(parameter,oneMod)+chiString,\n",
    "                   linewidth=(3.0 - ind/2.),linestyle=styleList[ind])\n",
    "        if ind == 0:\n",
    "            titleList = []\n",
    "            for oneParam in paramList:\n",
    "                if (oneParam != parameter) | (parameter == 'FINAL'):\n",
    "                    titleList.append(paramLabel(oneParam,oneMod))\n",
    "            ax.set_title(','.join(titleList))\n",
    "        \n",
    "        \n",
    "        \n",
    "    medSpecObj.plot(ax=ax,customName='median spec',removePoly=True,normRange=normRange1,doSmooth=True,\n",
    "                    color='C3')\n",
    "    ax.set_xlim(xlimExplore)\n",
    "    ax.set_ylim(0,2)\n",
    "    ax.set_xlabel('Wavelength ($\\AA$)')\n",
    "    ax.set_ylabel('Normalized Flux')\n",
    "    ax.legend()\n",
    "    fig.savefig('plots/'+parameter+'_exploration.pdf')"
   ]
  },
  {
   "cell_type": "markdown",
   "metadata": {},
   "source": [
    "Smooth for plotting purposes"
   ]
  },
  {
   "cell_type": "code",
   "execution_count": null,
   "metadata": {},
   "outputs": [],
   "source": [
    "medSpecObj.smooth(5715,outRes=4.0e4)\n",
    "for oneMod in [m1,m2,m3,m4,m5,m6,m7,m8,m9,m10,m11,m12,m13]:\n",
    "    oneMod.removePoly()\n",
    "    oneMod.smooth(5715,outRes=4.0e4)\n",
    "    #oneMod.smooth(5715,outRes=8.5e4)"
   ]
  },
  {
   "cell_type": "markdown",
   "metadata": {},
   "source": [
    "## Temperature Exploration\n"
   ]
  },
  {
   "cell_type": "code",
   "execution_count": null,
   "metadata": {},
   "outputs": [],
   "source": [
    "doExploration([m6,m2,m7])"
   ]
  },
  {
   "cell_type": "markdown",
   "metadata": {},
   "source": [
    "## Gravity Exploration"
   ]
  },
  {
   "cell_type": "code",
   "execution_count": null,
   "metadata": {},
   "outputs": [],
   "source": [
    "doExploration([m5,m1,m4],parameter='LOGG')"
   ]
  },
  {
   "cell_type": "markdown",
   "metadata": {},
   "source": [
    "## Metallicity Exploration"
   ]
  },
  {
   "cell_type": "code",
   "execution_count": null,
   "metadata": {},
   "outputs": [],
   "source": [
    "doExploration([m8,m2,m9],parameter='MH')"
   ]
  },
  {
   "cell_type": "markdown",
   "metadata": {},
   "source": [
    "## Carbon Exploration"
   ]
  },
  {
   "cell_type": "code",
   "execution_count": null,
   "metadata": {},
   "outputs": [],
   "source": [
    "doExploration([m10,m2,m11],parameter='CM')\n"
   ]
  },
  {
   "cell_type": "markdown",
   "metadata": {},
   "source": [
    "## $\\alpha$ Exploration"
   ]
  },
  {
   "cell_type": "code",
   "execution_count": null,
   "metadata": {},
   "outputs": [],
   "source": [
    "doExploration([m12,m2,m13],parameter='ALPHA')\n",
    "\n"
   ]
  },
  {
   "cell_type": "markdown",
   "metadata": {},
   "source": [
    "## Find Minimum $\\chi^2$ within Grid"
   ]
  },
  {
   "cell_type": "code",
   "execution_count": null,
   "metadata": {},
   "outputs": [],
   "source": [
    "fList2 = glob.glob('../bosz/chi_min_search/*.fits')[0:6]"
   ]
  },
  {
   "cell_type": "code",
   "execution_count": null,
   "metadata": {},
   "outputs": [],
   "source": [
    "def minSearch(fileList):\n",
    "    \"\"\" Does an exploration chi^2 \"\"\"\n",
    "    polyRange = [5163,5190]\n",
    "    normRange1 = [5176,5179]\n",
    "    \n",
    "    medSpecObj.removePoly(waveRange=polyRange,nPoly=3,sigreject=10)\n",
    "    \n",
    "    allResults =  Table()\n",
    "    \n",
    "    for oneMFile in fList2:\n",
    "        oneResult = Table()\n",
    "        \n",
    "        oneMod = sp_engine.stellModel(oneMFile)\n",
    "        oneMod.smooth(5715,outRes=4.5e4)\n",
    "        oneMod.removePoly(waveRange=polyRange,nPoly=3,sigreject=10)\n",
    "        \n",
    "        chiSquare, chiString = medSpecObj.chiSquared(oneMod,normRange=normRange1,SNR=medSNR)\n",
    "        \n",
    "        oneResult['Chi2'] = [chiSquare]\n",
    "        \n",
    "        for oneParam in paramList:\n",
    "            oneResult[oneParam] = [oneMod.header[oneParam]]\n",
    "        \n",
    "        oneResult['MName'] = [os.path.basename(oneMFile)]\n",
    "\n",
    "        allResults = vstack([allResults,oneResult])\n",
    "    \n",
    "    return allResults"
   ]
  },
  {
   "cell_type": "code",
   "execution_count": null,
   "metadata": {},
   "outputs": [],
   "source": [
    "minTab = minSearch(fList2)\n",
    "#minTab"
   ]
  },
  {
   "cell_type": "code",
   "execution_count": null,
   "metadata": {},
   "outputs": [],
   "source": [
    "plt.plot(minTab['T_EFF'],minTab['Chi2'],'o')\n",
    "plt.ylim(0,1e5)"
   ]
  },
  {
   "cell_type": "code",
   "execution_count": null,
   "metadata": {},
   "outputs": [],
   "source": [
    "minTab[np.argmin(minTab['Chi2'])]"
   ]
  },
  {
   "cell_type": "code",
   "execution_count": null,
   "metadata": {},
   "outputs": [],
   "source": [
    "minTab"
   ]
  },
  {
   "cell_type": "markdown",
   "metadata": {},
   "source": [
    "## Best Fit"
   ]
  },
  {
   "cell_type": "code",
   "execution_count": null,
   "metadata": {},
   "outputs": [],
   "source": [
    "doExploration([m12],parameter='FINAL')"
   ]
  },
  {
   "cell_type": "markdown",
   "metadata": {},
   "source": [
    "## Save the spectrum for Spect-Match Emp or Johanna's Tool"
   ]
  },
  {
   "cell_type": "code",
   "execution_count": null,
   "metadata": {},
   "outputs": [],
   "source": [
    "medSpecObj.smooth(5715,outRes=5.8e4)\n",
    "outDat=Table()\n",
    "outDat['Wavelength (A)'] = waveGrid\n",
    "outDat['Flux (Norm)'] = medSpec\n",
    "outDat['Flux (Smooth)'] = medSpecObj.yconv\n",
    "outDat['Err'] = stdSpec\n",
    "outDat.write('output/medianSpec_masuda.csv',overwrite=True)\n",
    "#waveGrid,medSpec"
   ]
  },
  {
   "cell_type": "code",
   "execution_count": null,
   "metadata": {},
   "outputs": [],
   "source": []
  }
 ],
 "metadata": {
  "language_info": {
   "name": "python",
   "pygments_lexer": "ipython3"
  }
 },
 "nbformat": 4,
 "nbformat_minor": 1
}
