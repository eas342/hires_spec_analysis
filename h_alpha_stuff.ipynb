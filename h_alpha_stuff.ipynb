{
 "cells": [
  {
   "cell_type": "code",
   "execution_count": null,
   "metadata": {},
   "outputs": [],
   "source": [
    "from astropy.io import ascii, fits\n",
    "from astropy.table import Table, vstack\n",
    "import numpy as np\n",
    "import matplotlib.pyplot as plt\n",
    "import es_gen\n",
    "import pdb\n",
    "import glob\n",
    "from scipy.interpolate import interp1d\n",
    "from astropy.convolution import Gaussian1DKernel, convolve\n",
    "import os\n",
    "import es_gen\n",
    "from sp_engine import subaruSpec, measuredArray, stellModel\n",
    "from specutils.io import read_fits\n",
    "\n",
    "\n",
    "%matplotlib inline"
   ]
  },
  {
   "cell_type": "markdown",
   "metadata": {},
   "source": [
    "## Originally, don't think H-alpha was covered"
   ]
  },
  {
   "cell_type": "code",
   "execution_count": null,
   "metadata": {},
   "outputs": [],
   "source": [
    "s = subaruSpec('kic1255_fits/w111345.fits')"
   ]
  },
  {
   "cell_type": "code",
   "execution_count": null,
   "metadata": {},
   "outputs": [],
   "source": [
    "s.defaultNormRegion"
   ]
  },
  {
   "cell_type": "code",
   "execution_count": null,
   "metadata": {},
   "outputs": [],
   "source": [
    "plt.plot(s.wave,s.normFlux)\n",
    "plt.ylim(0,2)\n",
    "plt.xlim(6560,6590)\n",
    "plt.axvline(6563.,color='red')"
   ]
  },
  {
   "cell_type": "markdown",
   "metadata": {},
   "source": [
    "## In a re-analysis, Kento did recover the H-alpha\n",
    "Collect all red spectra and combine"
   ]
  },
  {
   "cell_type": "code",
   "execution_count": null,
   "metadata": {},
   "outputs": [],
   "source": [
    "fList = glob.glob('new_k1255_fits_w_halpha/w*.fits')\n",
    "redCCDList = []\n",
    "for oneFile in fList:\n",
    "    s = subaruSpec(oneFile)\n",
    "    if s.ccdSide == 'red':\n",
    "        redCCDList.append(oneFile)"
   ]
  },
  {
   "cell_type": "code",
   "execution_count": null,
   "metadata": {},
   "outputs": [],
   "source": [
    "redCCDList"
   ]
  },
  {
   "cell_type": "code",
   "execution_count": null,
   "metadata": {},
   "outputs": [],
   "source": [
    "nFile = len(redCCDList)\n",
    "timeArray = []\n",
    "for ind,oneFile in enumerate(redCCDList):\n",
    "    baseName = os.path.basename(oneFile)\n",
    "    s = subaruSpec(oneFile)\n",
    "    path1 = '../hirano/kic1255_20150827/{}'.format(baseName)\n",
    "    path2 = '../hirano/kic1255_20150828/{}'.format(baseName)\n",
    "    if os.path.exists(path1):\n",
    "        head = fits.getheader(path1)\n",
    "    elif os.path.exists(path2):\n",
    "        head = fits.getheader(path2)\n",
    "    else:\n",
    "        print('No original header found for {}'.format(basename))\n",
    "        head = {'DATE-OBS':\"NAN\",'UT-STR':\"NAN\"}\n",
    "    timeArray.append(\"{}T{}\".format(head['DATE-OBS'],head['UT-STR']))\n",
    "    \n",
    "    if ind == 0:\n",
    "        ## Choose the wavelength grid the first time through\n",
    "        pts = (s.wave > 6559.2) & (s.wave < 6570.)\n",
    "        waveGrid = s.wave[pts]\n",
    "        allFlux = np.zeros([len(waveGrid),nFile])\n",
    "        ptsForNormalization = (waveGrid > 6558.) & (waveGrid < 6560.)\n",
    "        \n",
    "    f = interp1d(s.wave,s.normFlux)\n",
    "    interpolatedFlux = f(waveGrid)\n",
    "    allFlux[:,ind] = interpolatedFlux/np.median(interpolatedFlux[ptsForNormalization])\n",
    "    \n",
    "    #print(\"File {}, Median={}\".format(oneFile,np.median(allFlux[:,ind])))"
   ]
  },
  {
   "cell_type": "code",
   "execution_count": null,
   "metadata": {},
   "outputs": [],
   "source": [
    "medSpec = np.nanmedian(allFlux,axis=1)\n",
    "medSpecObj = measuredArray(waveGrid,medSpec,Res=6e4)\n",
    "medSpecObj.removePoly()\n",
    "## Get Errors from the standard deviation\n",
    "stdSpec = np.nanstd(allFlux,axis=1)\n",
    "medSNR = np.median(medSpec/stdSpec)\n",
    "medSNR"
   ]
  },
  {
   "cell_type": "code",
   "execution_count": null,
   "metadata": {},
   "outputs": [],
   "source": [
    "plt.plot(waveGrid,medSpec)"
   ]
  },
  {
   "cell_type": "code",
   "execution_count": null,
   "metadata": {},
   "outputs": [],
   "source": [
    "allFlux.shape"
   ]
  },
  {
   "cell_type": "code",
   "execution_count": null,
   "metadata": {},
   "outputs": [],
   "source": [
    "fig, ax = plt.subplots(figsize=(10,4))\n",
    "for ind,oneRow in enumerate(allFlux.transpose()):\n",
    "    ax.plot(waveGrid,oneRow - 0.1 * ind,label=timeArray[ind][0:16])\n",
    "ax.set_xlabel(\"Wavelength ($\\AA$)\")\n",
    "ax.set_ylabel(\"Normalized Flux\")\n",
    "ax.legend()\n",
    "ax.set_xlim(6557,6566)\n",
    "fig.savefig(\"plots/h_alpha_subaru.pdf\")"
   ]
  },
  {
   "cell_type": "code",
   "execution_count": null,
   "metadata": {},
   "outputs": [],
   "source": []
  }
 ],
 "metadata": {
  "language_info": {
   "name": "python",
   "pygments_lexer": "ipython3"
  }
 },
 "nbformat": 4,
 "nbformat_minor": 2
}
