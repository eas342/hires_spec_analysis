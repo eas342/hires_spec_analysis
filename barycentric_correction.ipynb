{
 "cells": [
  {
   "cell_type": "code",
   "execution_count": null,
   "metadata": {},
   "outputs": [],
   "source": [
    "from astropy.io import fits\n",
    "from astropy.coordinates import SkyCoord,EarthLocation\n",
    "import astropy.units as u\n",
    "from astropy.units import imperial\n",
    "from astropy.time import Time\n",
    "from astropy.table import Table\n",
    "import astropy.constants as const\n",
    "import numpy as np\n",
    "imperial.enable()\n",
    "import glob\n",
    "import os"
   ]
  },
  {
   "cell_type": "code",
   "execution_count": null,
   "metadata": {},
   "outputs": [],
   "source": [
    "(13658.14 * imperial.ft).to(u.m)"
   ]
  },
  {
   "cell_type": "code",
   "execution_count": null,
   "metadata": {},
   "outputs": [],
   "source": [
    "latSub, lonSub = 19. + 49./60. + 31.8142/3600.,-(155.+28./60.+33.66719/3600.)\n",
    "latSub, lonSub"
   ]
  },
  {
   "cell_type": "code",
   "execution_count": null,
   "metadata": {},
   "outputs": [],
   "source": [
    "subaru = EarthLocation.from_geodetic(lat=latSub * u.deg,lon=lonSub * u.deg,\n",
    "                                     height=(13658.14 * imperial.ft).to(u.m))\n",
    "#s1 = EarthLocation.of_site('Subaru') from https://www.ifa.hawaii.edu/mko/coordinates.shtml"
   ]
  },
  {
   "cell_type": "code",
   "execution_count": null,
   "metadata": {},
   "outputs": [],
   "source": [
    "## Gaia DR2 position\n",
    "c1 = SkyCoord(ra=290.9662101686864 * u.deg,dec=51.5047656451624 * u.deg,distance=618.6 * u.pc)\n",
    "c1.to_string('hmsdms',sep=' ')"
   ]
  },
  {
   "cell_type": "code",
   "execution_count": null,
   "metadata": {},
   "outputs": [],
   "source": [
    "list1 = glob.glob('../fits_data/proc/out_HDSA000940*.fits')\n",
    "list2 = glob.glob('../hirano/kic1255_20150827/w*.fits')\n",
    "list3 = glob.glob('../hirano/kic1255_20150828/w*.fits')\n",
    "fileNames, allDates = [], []\n",
    "for oneList in [list1,list2,list3]:\n",
    "    for oneFile in oneList:\n",
    "        head = fits.getheader(oneFile)\n",
    "        #if head['WAVELEN'] == 583.74: ## only include blue side\n",
    "        fileNames.append(os.path.basename(oneFile))\n",
    "        allDates.append(head['DATE-OBS']+'T'+head['UT-STR'])"
   ]
  },
  {
   "cell_type": "code",
   "execution_count": null,
   "metadata": {},
   "outputs": [],
   "source": [
    "tArray = Time(allDates)"
   ]
  },
  {
   "cell_type": "code",
   "execution_count": null,
   "metadata": {},
   "outputs": [],
   "source": [
    "barycorr = c1.radial_velocity_correction(obstime=tArray, location=subaru)\n"
   ]
  },
  {
   "cell_type": "code",
   "execution_count": null,
   "metadata": {},
   "outputs": [],
   "source": [
    "np.round(5160. * u.AA * barycorr/const.c,4)"
   ]
  },
  {
   "cell_type": "code",
   "execution_count": null,
   "metadata": {},
   "outputs": [],
   "source": [
    "t = Table()\n",
    "t['File Name'] = fileNames\n",
    "t['Time'] = tArray\n",
    "t['JD'] = tArray.jd\n",
    "t['RV (km/s)'] = np.round(barycorr.to(u.km/u.s),4)\n",
    "t"
   ]
  },
  {
   "cell_type": "code",
   "execution_count": null,
   "metadata": {},
   "outputs": [],
   "source": [
    "t.write('output/barycent_corrections.csv',overwrite=True)"
   ]
  },
  {
   "cell_type": "code",
   "execution_count": null,
   "metadata": {},
   "outputs": [],
   "source": []
  }
 ],
 "metadata": {
  "language_info": {
   "name": "python",
   "pygments_lexer": "ipython3"
  }
 },
 "nbformat": 4,
 "nbformat_minor": 2
}
